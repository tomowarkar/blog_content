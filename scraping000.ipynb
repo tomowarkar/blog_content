{
  "nbformat": 4,
  "nbformat_minor": 0,
  "metadata": {
    "colab": {
      "name": "scraping000",
      "version": "0.3.2",
      "provenance": [],
      "collapsed_sections": [],
      "include_colab_link": true
    },
    "kernelspec": {
      "name": "python3",
      "display_name": "Python 3"
    }
  },
  "cells": [
    {
      "cell_type": "markdown",
      "metadata": {
        "id": "view-in-github",
        "colab_type": "text"
      },
      "source": [
        "<a href=\"https://colab.research.google.com/github/tomowarkar/blog_content/blob/master/scraping000.ipynb\" target=\"_parent\"><img src=\"https://colab.research.google.com/assets/colab-badge.svg\" alt=\"Open In Colab\"/></a>"
      ]
    },
    {
      "metadata": {
        "id": "ylja_ygENSyy",
        "colab_type": "code",
        "outputId": "8ff3bb67-d057-4ff7-b2b9-a8fdc7d9d420",
        "colab": {
          "base_uri": "https://localhost:8080/",
          "height": 34
        }
      },
      "cell_type": "code",
      "source": [
        "import requests\n",
        "url = 'https://tomowarkar.com'\n",
        "r = requests.get(url)\n",
        "c = r.content\n",
        "\n",
        "from bs4 import BeautifulSoup\n",
        "\n",
        "soup = BeautifulSoup(c)\n",
        "\n",
        "#head > title\n",
        "print(soup.title.text)"
      ],
      "execution_count": 2,
      "outputs": [
        {
          "output_type": "stream",
          "text": [
            "tomowarkar | わからないことはみんなgoogle先生に聞けばいい\n"
          ],
          "name": "stdout"
        }
      ]
    },
    {
      "metadata": {
        "id": "ks5Il9ofXPT6",
        "colab_type": "code",
        "outputId": "abbe5e96-1360-4fd1-9ee2-3a7ab0ff5bc3",
        "colab": {
          "base_uri": "https://localhost:8080/",
          "height": 204
        }
      },
      "cell_type": "code",
      "source": [
        "soup.article"
      ],
      "execution_count": 3,
      "outputs": [
        {
          "output_type": "execute_result",
          "data": {
            "text/plain": [
              "<article class=\"cardtype__article\">\n",
              "<a class=\"cardtype__link\" href=\"https://tomowarkar.com/syosinsya-after-html-css/\">\n",
              "<p class=\"cardtype__img\">\n",
              "<img alt=\"初心者がHTML, CSSを学んで次にやるべきたった1つのこと\" src=\"https://tomowarkar.com/wp-content/uploads/2018/11/-2018-11-25-18.45.40-e1550150737797-520x300.png\"/>\n",
              "</p>\n",
              "<div class=\"cardtype__article-info\">\n",
              "<time class=\"updated entry-time dfont\" datetime=\"2019-02-14\">2019.02.14 Thu</time>\n",
              "<h2>初心者がHTML, CSSを学んで次にやるべきたった1つのこと</h2>\n",
              "</div>\n",
              "</a>\n",
              "<a class=\"dfont cat-name catid13\" href=\"https://tomowarkar.com/category/programming/\">programming</a> </article>"
            ]
          },
          "metadata": {
            "tags": []
          },
          "execution_count": 3
        }
      ]
    },
    {
      "metadata": {
        "id": "7fOSDUh2Y5UP",
        "colab_type": "code",
        "outputId": "7179d066-bd2b-4a6d-c305-d0aca83b2bc4",
        "colab": {
          "base_uri": "https://localhost:8080/",
          "height": 2074
        }
      },
      "cell_type": "code",
      "source": [
        "articles = soup.find('div', attrs = {'class': 'post-tab__content'})\n",
        "articles"
      ],
      "execution_count": 17,
      "outputs": [
        {
          "output_type": "execute_result",
          "data": {
            "text/plain": [
              "<div class=\"post-tab__content tab1 tab-active\">\n",
              "<div class=\"cardtype cf\">\n",
              "<article class=\"cardtype__article\">\n",
              "<a class=\"cardtype__link\" href=\"https://tomowarkar.com/syosinsya-after-html-css/\">\n",
              "<p class=\"cardtype__img\">\n",
              "<img alt=\"初心者がHTML, CSSを学んで次にやるべきたった1つのこと\" src=\"https://tomowarkar.com/wp-content/uploads/2018/11/-2018-11-25-18.45.40-e1550150737797-520x300.png\"/>\n",
              "</p>\n",
              "<div class=\"cardtype__article-info\">\n",
              "<time class=\"updated entry-time dfont\" datetime=\"2019-02-14\">2019.02.14 Thu</time>\n",
              "<h2>初心者がHTML, CSSを学んで次にやるべきたった1つのこと</h2>\n",
              "</div>\n",
              "</a>\n",
              "<a class=\"dfont cat-name catid13\" href=\"https://tomowarkar.com/category/programming/\">programming</a> </article>\n",
              "<article class=\"cardtype__article\">\n",
              "<a class=\"cardtype__link\" href=\"https://tomowarkar.com/python-matplotlib-circle/\">\n",
              "<p class=\"cardtype__img\">\n",
              "<img alt=\"【python】matplotlibで正多角形や円を描写する\" src=\"https://tomowarkar.com/wp-content/uploads/2018/12/python-520x300.png\"/>\n",
              "</p>\n",
              "<div class=\"cardtype__article-info\">\n",
              "<time class=\"updated entry-time dfont\" datetime=\"2019-02-13\">2019.02.13 Wed</time>\n",
              "<h2>【python】matplotlibで正多角形や円を描写する</h2>\n",
              "</div>\n",
              "</a>\n",
              "<a class=\"dfont cat-name catid13\" href=\"https://tomowarkar.com/category/programming/\">programming</a> </article>\n",
              "<article class=\"cardtype__article\">\n",
              "<a class=\"cardtype__link\" href=\"https://tomowarkar.com/whats-bitcoin-1/\">\n",
              "<p class=\"cardtype__img\">\n",
              "<img alt=\"【暗号通貨とP2P】ビットコインの仕組み①\" src=\"https://tomowarkar.com/wp-content/themes/sango-theme/library/images/default_small.jpg\"/>\n",
              "</p>\n",
              "<div class=\"cardtype__article-info\">\n",
              "<time class=\"updated entry-time dfont\" datetime=\"2019-02-12\">2019.02.12 Tue</time>\n",
              "<h2>【暗号通貨とP2P】ビットコインの仕組み①</h2>\n",
              "</div>\n",
              "</a>\n",
              "<a class=\"dfont cat-name catid29\" href=\"https://tomowarkar.com/category/blockchain/\">blockchain</a> </article>\n",
              "<article class=\"cardtype__article\">\n",
              "<a class=\"cardtype__link\" href=\"https://tomowarkar.com/osaka-umeda-iceskate/\">\n",
              "<p class=\"cardtype__img\">\n",
              "<img alt=\"【ウメダアイスリンク】大阪梅田でアイススケートを滑ってきた【レビュー】\" src=\"https://tomowarkar.com/wp-content/uploads/2019/02/5323-520x300.jpg\"/>\n",
              "</p>\n",
              "<div class=\"cardtype__article-info\">\n",
              "<time class=\"updated entry-time dfont\" datetime=\"2019-02-11\">2019.02.11 Mon</time>\n",
              "<h2>【ウメダアイスリンク】大阪梅田でアイススケートを滑ってきた【レビュー】</h2>\n",
              "</div>\n",
              "</a>\n",
              "<a class=\"dfont cat-name catid4\" href=\"https://tomowarkar.com/category/blog/\">blog</a> </article>\n",
              "<article class=\"cardtype__article\">\n",
              "<a class=\"cardtype__link\" href=\"https://tomowarkar.com/pubg-mobile/\">\n",
              "<p class=\"cardtype__img\">\n",
              "<img alt=\"【PUBG mobile】勲章メダルの獲得条件まとめ\" src=\"https://tomowarkar.com/wp-content/uploads/2019/02/97D4B587-A232-4F6B-AA51-C88F6261E9E2_new-1-520x300.jpg\"/>\n",
              "</p>\n",
              "<div class=\"cardtype__article-info\">\n",
              "<time class=\"updated entry-time dfont\" datetime=\"2019-02-10\">2019.02.10 Sun</time>\n",
              "<h2>【PUBG mobile】勲章メダルの獲得条件まとめ</h2>\n",
              "</div>\n",
              "</a>\n",
              "<a class=\"dfont cat-name catid4\" href=\"https://tomowarkar.com/category/blog/\">blog</a> </article>\n",
              "<article class=\"cardtype__article\">\n",
              "<a class=\"cardtype__link\" href=\"https://tomowarkar.com/digstar-minigame/\">\n",
              "<p class=\"cardtype__img\">\n",
              "<img alt=\"【DIGSTAR攻略】ミニゲーム情報まとめ\" src=\"https://tomowarkar.com/wp-content/themes/sango-theme/library/images/default_small.jpg\"/>\n",
              "</p>\n",
              "<div class=\"cardtype__article-info\">\n",
              "<time class=\"updated entry-time dfont\" datetime=\"2019-02-09\">2019.02.09 Sat</time>\n",
              "<h2>【DIGSTAR攻略】ミニゲーム情報まとめ</h2>\n",
              "</div>\n",
              "</a>\n",
              "<a class=\"dfont cat-name catid29\" href=\"https://tomowarkar.com/category/blockchain/\">blockchain</a> </article>\n",
              "<article class=\"cardtype__article\">\n",
              "<a class=\"cardtype__link\" href=\"https://tomowarkar.com/100kin-ramen/\">\n",
              "<p class=\"cardtype__img\">\n",
              "<img alt=\"100均のレンジ調理グッズが一人暮らしに万能すぎた\" src=\"https://tomowarkar.com/wp-content/themes/sango-theme/library/images/default_small.jpg\"/>\n",
              "</p>\n",
              "<div class=\"cardtype__article-info\">\n",
              "<time class=\"updated entry-time dfont\" datetime=\"2019-02-08\">2019.02.08 Fri</time>\n",
              "<h2>100均のレンジ調理グッズが一人暮らしに万能すぎた</h2>\n",
              "</div>\n",
              "</a>\n",
              "<a class=\"dfont cat-name catid4\" href=\"https://tomowarkar.com/category/blog/\">blog</a> </article>\n",
              "<article class=\"cardtype__article\">\n",
              "<a class=\"cardtype__link\" href=\"https://tomowarkar.com/google-colab-tensorflow-kera/\">\n",
              "<p class=\"cardtype__img\">\n",
              "<img alt=\"Google Colabを使ったTensorFlowとKerasを使った深層学習入門\" src=\"https://tomowarkar.com/wp-content/uploads/2018/12/python-520x300.png\"/>\n",
              "</p>\n",
              "<div class=\"cardtype__article-info\">\n",
              "<time class=\"updated entry-time dfont\" datetime=\"2019-02-07\">2019.02.07 Thu</time>\n",
              "<h2>Google Colabを使ったTensorFlowとKerasを使った深層学習入門</h2>\n",
              "</div>\n",
              "</a>\n",
              "<a class=\"dfont cat-name catid13\" href=\"https://tomowarkar.com/category/programming/\">programming</a> </article>\n",
              "<article class=\"cardtype__article\">\n",
              "<a class=\"cardtype__link\" href=\"https://tomowarkar.com/python-pandas-dataframe-matome/\">\n",
              "<p class=\"cardtype__img\">\n",
              "<img alt=\"【python】Dataframeの操作まとめ【行列の追加、削除、参照、ソート】\" src=\"https://tomowarkar.com/wp-content/uploads/2018/12/python-520x300.png\"/>\n",
              "</p>\n",
              "<div class=\"cardtype__article-info\">\n",
              "<time class=\"updated entry-time dfont\" datetime=\"2019-02-06\">2019.02.06 Wed</time>\n",
              "<h2>【python】Dataframeの操作まとめ【行列の追加、削除、参照、ソート】</h2>\n",
              "</div>\n",
              "</a>\n",
              "<a class=\"dfont cat-name catid13\" href=\"https://tomowarkar.com/category/programming/\">programming</a> </article>\n",
              "<article class=\"cardtype__article\">\n",
              "<a class=\"cardtype__link\" href=\"https://tomowarkar.com/colab-google/\">\n",
              "<p class=\"cardtype__img\">\n",
              "<img alt=\"Google ColabでGoogle drive内の.pyファイルを動かす\" src=\"https://tomowarkar.com/wp-content/uploads/2018/12/python-520x300.png\"/>\n",
              "</p>\n",
              "<div class=\"cardtype__article-info\">\n",
              "<time class=\"updated entry-time dfont\" datetime=\"2019-02-05\">2019.02.05 Tue</time>\n",
              "<h2>Google ColabでGoogle drive内の.pyファイルを動かす</h2>\n",
              "</div>\n",
              "</a>\n",
              "<a class=\"dfont cat-name catid13\" href=\"https://tomowarkar.com/category/programming/\">programming</a> </article>\n",
              "</div>\n",
              "<nav class=\"pagination dfont\"><ul class=\"page-numbers\">\n",
              "<li><span aria-current=\"page\" class=\"page-numbers current\">1</span></li>\n",
              "<li><a class=\"page-numbers\" href=\"https://tomowarkar.com/page/2/\">2</a></li>\n",
              "<li><span class=\"page-numbers dots\">…</span></li>\n",
              "<li><a class=\"page-numbers\" href=\"https://tomowarkar.com/page/4/\">4</a></li>\n",
              "<li><a class=\"next page-numbers\" href=\"https://tomowarkar.com/page/2/\"><i class=\"fa fa-chevron-right\"></i></a></li>\n",
              "</ul>\n",
              "</nav> </div>"
            ]
          },
          "metadata": {
            "tags": []
          },
          "execution_count": 17
        }
      ]
    },
    {
      "metadata": {
        "id": "nA4qDQrpZM9G",
        "colab_type": "code",
        "colab": {
          "base_uri": "https://localhost:8080/",
          "height": 187
        },
        "outputId": "abb9258e-42b0-4eb5-f967-e86da089e335"
      },
      "cell_type": "code",
      "source": [
        "titles = articles.find_all('h2')\n",
        "titles"
      ],
      "execution_count": 19,
      "outputs": [
        {
          "output_type": "execute_result",
          "data": {
            "text/plain": [
              "[<h2>初心者がHTML, CSSを学んで次にやるべきたった1つのこと</h2>,\n",
              " <h2>【python】matplotlibで正多角形や円を描写する</h2>,\n",
              " <h2>【暗号通貨とP2P】ビットコインの仕組み①</h2>,\n",
              " <h2>【ウメダアイスリンク】大阪梅田でアイススケートを滑ってきた【レビュー】</h2>,\n",
              " <h2>【PUBG mobile】勲章メダルの獲得条件まとめ</h2>,\n",
              " <h2>【DIGSTAR攻略】ミニゲーム情報まとめ</h2>,\n",
              " <h2>100均のレンジ調理グッズが一人暮らしに万能すぎた</h2>,\n",
              " <h2>Google Colabを使ったTensorFlowとKerasを使った深層学習入門</h2>,\n",
              " <h2>【python】Dataframeの操作まとめ【行列の追加、削除、参照、ソート】</h2>,\n",
              " <h2>Google ColabでGoogle drive内の.pyファイルを動かす</h2>]"
            ]
          },
          "metadata": {
            "tags": []
          },
          "execution_count": 19
        }
      ]
    },
    {
      "metadata": {
        "id": "-dA_WyZVq4ml",
        "colab_type": "code",
        "colab": {
          "base_uri": "https://localhost:8080/",
          "height": 187
        },
        "outputId": "3dea8548-3a38-4c4a-d97b-ac8b63b8bf57"
      },
      "cell_type": "code",
      "source": [
        "[i.text for i in titles]"
      ],
      "execution_count": 26,
      "outputs": [
        {
          "output_type": "execute_result",
          "data": {
            "text/plain": [
              "['初心者がHTML, CSSを学んで次にやるべきたった1つのこと',\n",
              " '【python】matplotlibで正多角形や円を描写する',\n",
              " '【暗号通貨とP2P】ビットコインの仕組み①',\n",
              " '【ウメダアイスリンク】大阪梅田でアイススケートを滑ってきた【レビュー】',\n",
              " '【PUBG mobile】勲章メダルの獲得条件まとめ',\n",
              " '【DIGSTAR攻略】ミニゲーム情報まとめ',\n",
              " '100均のレンジ調理グッズが一人暮らしに万能すぎた',\n",
              " 'Google Colabを使ったTensorFlowとKerasを使った深層学習入門',\n",
              " '【python】Dataframeの操作まとめ【行列の追加、削除、参照、ソート】',\n",
              " 'Google ColabでGoogle drive内の.pyファイルを動かす']"
            ]
          },
          "metadata": {
            "tags": []
          },
          "execution_count": 26
        }
      ]
    },
    {
      "metadata": {
        "id": "MLogFKk4r1p6",
        "colab_type": "code",
        "colab": {}
      },
      "cell_type": "code",
      "source": [
        ""
      ],
      "execution_count": 0,
      "outputs": []
    },
    {
      "metadata": {
        "id": "ATVLU7VL7pMo",
        "colab_type": "code",
        "colab": {}
      },
      "cell_type": "code",
      "source": [
        ""
      ],
      "execution_count": 0,
      "outputs": []
    }
  ]
}