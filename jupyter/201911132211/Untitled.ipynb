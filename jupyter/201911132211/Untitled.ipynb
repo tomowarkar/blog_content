{
 "cells": [
  {
   "cell_type": "code",
   "execution_count": 1,
   "metadata": {},
   "outputs": [
    {
     "name": "stdout",
     "output_type": "stream",
     "text": [
      "\n",
      "問1\n",
      "P = 5.71428571428571\n",
      "D = 0.261142857142857\n",
      "\n",
      "問2\n",
      "xi = 0.403712751943421\n",
      "o = 22.8924213143536\n",
      "P = 7.48661362334101\n",
      "D = 0.121198925927597\n",
      "\n",
      "問3\n",
      "xi = 1\n",
      "o = 18.96\n",
      "P = 5.13545142857142\n",
      "D = 0.398857142857143\n"
     ]
    }
   ],
   "source": [
    "from sympy import *\n",
    "\n",
    "def solvePD(K, T, o, xi):\n",
    "    tar = var('P')\n",
    "    p = solve ((P*K/T)**(1/2)-o, tar)[0]\n",
    "    print(f\"P = {p}\")\n",
    "\n",
    "    tar = var('D')\n",
    "    d = solve (2 * xi * (p*K*T)**(1/2) - (1+D*K), tar)[0]\n",
    "    print(f\"D = {d}\")\n",
    "\n",
    "    return p, d\n",
    "\n",
    "K = 7\n",
    "T = 0.1\n",
    "print(\"\\n問1\")\n",
    "o = 20\n",
    "xi = 0.707\n",
    "p, d = solvePD(K, T, o, xi)\n",
    "\n",
    "print(\"\\n問2\")\n",
    "tp = 0.15\n",
    "po = 25\n",
    "\n",
    "tar = var('xi')\n",
    "xi = solve (log(100)+(-xi*pi/(1- xi**2)**(1/2))-log(po), tar)[0]\n",
    "print(f\"xi = {xi}\")\n",
    "\n",
    "tar = var('o')\n",
    "o = solve (o*tp*(1-xi**2)**(1/2)-pi, tar)[0]\n",
    "print(f\"o = {o}\")\n",
    "p, d = solvePD(K, T, o, xi)\n",
    "\n",
    "print(\"\\n問3\")\n",
    "t = 0.25\n",
    "xi = 1\n",
    "o = 4.74/t\n",
    "print(f\"xi = {xi}\")\n",
    "print(f\"o = {o}\")\n",
    "\n",
    "p, d = solvePD(K, T, o, xi)\n"
   ]
  }
 ],
 "metadata": {
  "kernelspec": {
   "display_name": "Python 3",
   "language": "python",
   "name": "python3"
  },
  "language_info": {
   "codemirror_mode": {
    "name": "ipython",
    "version": 3
   },
   "file_extension": ".py",
   "mimetype": "text/x-python",
   "name": "python",
   "nbconvert_exporter": "python",
   "pygments_lexer": "ipython3",
   "version": "3.7.1"
  }
 },
 "nbformat": 4,
 "nbformat_minor": 2
}
