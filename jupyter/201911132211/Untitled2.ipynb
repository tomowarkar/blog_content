{
 "cells": [
  {
   "cell_type": "code",
   "execution_count": 49,
   "metadata": {},
   "outputs": [],
   "source": [
    "import pandas as pd\n",
    "import numpy as np"
   ]
  },
  {
   "cell_type": "code",
   "execution_count": 50,
   "metadata": {},
   "outputs": [],
   "source": [
    "L1V1df = pd.read_csv('/Users/tomowarkar/Downloads/seigyo/L1V1.csv',header=1,encoding = 'unicode_escape',names=('sec', 'rad', '')).drop(\"\", axis=1)\n",
    "L1V2df = pd.read_csv('/Users/tomowarkar/Downloads/seigyo/L1V2.csv',header=1,encoding = 'unicode_escape',names=('sec', 'rad', '')).drop(\"\", axis=1)\n",
    "L1V3df = pd.read_csv('/Users/tomowarkar/Downloads/seigyo/L1V3.csv',header=1,encoding = 'unicode_escape',names=('sec', 'rad', '')).drop(\"\", axis=1)\n",
    "L2V1df = pd.read_csv('/Users/tomowarkar/Downloads/seigyo/PLOTS_L_2V_1.csv',header=1,encoding = 'unicode_escape',names=('sec', 'rad', '')).drop(\"\", axis=1)\n",
    "L2V2df = pd.read_csv('/Users/tomowarkar/Downloads/seigyo/PLOTS_L_2V_2.csv',header=1,encoding = 'unicode_escape',names=('sec', 'rad', '')).drop(\"\", axis=1)\n",
    "L2V3df = pd.read_csv('/Users/tomowarkar/Downloads/seigyo/PLOTS_L_2V_3.csv',header=1,encoding = 'unicode_escape',names=('sec', 'rad', '')).drop(\"\", axis=1)\n",
    "L3V1df = pd.read_csv('/Users/tomowarkar/Downloads/seigyo/PLOTS_L_3V_1.csv',header=1,encoding = 'unicode_escape',names=('sec', 'rad', '')).drop(\"\", axis=1)\n",
    "L3V2df = pd.read_csv('/Users/tomowarkar/Downloads/seigyo/PLOTS_L_3V_2.csv',header=1,encoding = 'unicode_escape',names=('sec', 'rad', '')).drop(\"\", axis=1)\n",
    "L3V3df = pd.read_csv('/Users/tomowarkar/Downloads/seigyo/PLOTS_L_3V_3.csv',header=1,encoding = 'unicode_escape',names=('sec', 'rad', '')).drop(\"\", axis=1)\n",
    "L4V1df = pd.read_csv('/Users/tomowarkar/Downloads/seigyo/PLOTS_L_4V_1.csv',header=1,encoding = 'unicode_escape',names=('sec', 'rad', '')).drop(\"\", axis=1)\n",
    "L4V2df = pd.read_csv('/Users/tomowarkar/Downloads/seigyo/PLOTS_L_4V_2.csv',header=1,encoding = 'unicode_escape',names=('sec', 'rad', '')).drop(\"\", axis=1)\n",
    "L4V3df = pd.read_csv('/Users/tomowarkar/Downloads/seigyo/PLOTS_L_4V_3.csv',header=1,encoding = 'unicode_escape',names=('sec', 'rad', '')).drop(\"\", axis=1)\n",
    "L5V1df = pd.read_csv('/Users/tomowarkar/Downloads/seigyo/PLOTS_L_5V_1.csv',header=1,encoding = 'unicode_escape',names=('sec', 'rad', '')).drop(\"\", axis=1)\n",
    "L5V2df = pd.read_csv('/Users/tomowarkar/Downloads/seigyo/PLOTS_L_5V_2.csv',header=1,encoding = 'unicode_escape',names=('sec', 'rad', '')).drop(\"\", axis=1)\n",
    "L5V3df = pd.read_csv('/Users/tomowarkar/Downloads/seigyo/PLOTS_L_5V_3.csv',header=1,encoding = 'unicode_escape',names=('sec', 'rad', '')).drop(\"\", axis=1)\n",
    "\n",
    "S1V1df = pd.read_csv('/Users/tomowarkar/Downloads/seigyo/PLOTS_S_1V_1.csv',header=1,encoding = 'unicode_escape',names=('sec', 'rad', '')).drop(\"\", axis=1)\n",
    "S1V2df = pd.read_csv('/Users/tomowarkar/Downloads/seigyo/PLOTS_S_1V_2.csv',header=1,encoding = 'unicode_escape',names=('sec', 'rad', '')).drop(\"\", axis=1)\n",
    "S1V3df = pd.read_csv('/Users/tomowarkar/Downloads/seigyo/PLOTS_S_1V_3.csv',header=1,encoding = 'unicode_escape',names=('sec', 'rad', '')).drop(\"\", axis=1)\n",
    "S2V1df = pd.read_csv('/Users/tomowarkar/Downloads/seigyo/PLOTS_S_2V_1.csv',header=1,encoding = 'unicode_escape',names=('sec', 'rad', '')).drop(\"\", axis=1)\n",
    "S2V2df = pd.read_csv('/Users/tomowarkar/Downloads/seigyo/PLOTS_S_2V_2.csv',header=1,encoding = 'unicode_escape',names=('sec', 'rad', '')).drop(\"\", axis=1)\n",
    "S2V3df = pd.read_csv('/Users/tomowarkar/Downloads/seigyo/PLOTS_S_2V_3.csv',header=1,encoding = 'unicode_escape',names=('sec', 'rad', '')).drop(\"\", axis=1)\n",
    "S3V1df = pd.read_csv('/Users/tomowarkar/Downloads/seigyo/PLOTS_S_3V_1.csv',header=1,encoding = 'unicode_escape',names=('sec', 'rad', '')).drop(\"\", axis=1)\n",
    "S3V2df = pd.read_csv('/Users/tomowarkar/Downloads/seigyo/PLOTS_S_3V_2.csv',header=1,encoding = 'unicode_escape',names=('sec', 'rad', '')).drop(\"\", axis=1)\n",
    "S3V3df = pd.read_csv('/Users/tomowarkar/Downloads/seigyo/PLOTS_S_3V_3.csv',header=1,encoding = 'unicode_escape',names=('sec', 'rad', '')).drop(\"\", axis=1)\n",
    "S4V1df = pd.read_csv('/Users/tomowarkar/Downloads/seigyo/PLOTS_S_4V_1.csv',header=1,encoding = 'unicode_escape',names=('sec', 'rad', '')).drop(\"\", axis=1)\n",
    "S4V2df = pd.read_csv('/Users/tomowarkar/Downloads/seigyo/PLOTS_S_4V_2.csv',header=1,encoding = 'unicode_escape',names=('sec', 'rad', '')).drop(\"\", axis=1)\n",
    "S4V3df = pd.read_csv('/Users/tomowarkar/Downloads/seigyo/PLOTS_S_4V_3.csv',header=1,encoding = 'unicode_escape',names=('sec', 'rad', '')).drop(\"\", axis=1)\n",
    "S5V1df = pd.read_csv('/Users/tomowarkar/Downloads/seigyo/PLOTS_S_5V_1.csv',header=1,encoding = 'unicode_escape',names=('sec', 'rad', '')).drop(\"\", axis=1)\n",
    "S5V2df = pd.read_csv('/Users/tomowarkar/Downloads/seigyo/PLOTS_S_5V_2.csv',header=1,encoding = 'unicode_escape',names=('sec', 'rad', '')).drop(\"\", axis=1)\n",
    "S5V3df = pd.read_csv('/Users/tomowarkar/Downloads/seigyo/PLOTS_S_5V_3.csv',header=1,encoding = 'unicode_escape',names=('sec', 'rad', '')).drop(\"\", axis=1)"
   ]
  },
  {
   "cell_type": "code",
   "execution_count": 51,
   "metadata": {},
   "outputs": [],
   "source": [
    "Ls = [L1V1df, L1V2df, L1V3df, L2V1df, L2V2df, L2V3df,L3V1df, L3V2df, L3V3df, L4V1df, L4V2df, L4V3df,L5V1df, L5V2df, L5V3df]\n",
    "Ss = [S1V1df, S1V2df, S1V3df, S2V1df, S2V2df, S2V3df,S3V1df, S3V2df, S3V3df, S4V1df, S4V2df, S4V3df,S5V1df, S5V2df, S5V3df]\n",
    "Vs = [1,1,1,2,2,2,3,3,3,4,4,4,5,5,5]"
   ]
  },
  {
   "cell_type": "code",
   "execution_count": 52,
   "metadata": {},
   "outputs": [],
   "source": [
    "for df in Ls + Ss:\n",
    "    df[\"sec\"] = df[\"sec\"].map(lambda x: (x- df[\"sec\"][0])/1000)\n",
    "    df[\"rad\"] = df[\"rad\"].map(lambda x: np.radians(x))"
   ]
  },
  {
   "cell_type": "code",
   "execution_count": 53,
   "metadata": {},
   "outputs": [
    {
     "name": "stdout",
     "output_type": "stream",
     "text": [
      "6.657 3.9\n",
      "\n",
      "6.688 3.168\n",
      "\n",
      "6.707 3.512\n",
      "\n",
      "6.947 4.361\n",
      "\n",
      "6.983 4.272\n",
      "\n",
      "6.947 4.375\n",
      "\n",
      "7.006 4.377\n",
      "\n",
      "7.058 4.057\n",
      "\n",
      "7.03 4.129\n",
      "\n",
      "7.067 4.419\n",
      "\n",
      "7.08 4.322\n",
      "\n",
      "7.071 4.43\n",
      "\n",
      "7.113 4.268\n",
      "\n",
      "7.099 4.095\n",
      "\n",
      "7.102 4.334\n",
      "\n"
     ]
    }
   ],
   "source": [
    "for df, v in zip(Ls, Vs):\n",
    "    a, b = np.polyfit(df[\"sec\"][-101:-1], df[\"rad\"][-101:-1], 1)\n",
    "#     print(v, a, b,)\n",
    "    print(round(a/v, 3), round(-a/b, 3))\n",
    "    print()"
   ]
  },
  {
   "cell_type": "code",
   "execution_count": 54,
   "metadata": {},
   "outputs": [
    {
     "name": "stdout",
     "output_type": "stream",
     "text": [
      "L1 [6.684      3.52666667]\n",
      "L2 [6.959 4.336]\n",
      "L3 [7.03133333 4.18766667]\n",
      "L4 [7.07266667 4.39033333]\n",
      "L5 [7.10466667 4.23233333]\n"
     ]
    }
   ],
   "source": [
    "print(\"L1\", (np.array([6.657, 3.9])+np.array([6.688, 3.168])+np.array([6.707, 3.512]))/3)\n",
    "print(\"L2\", (np.array([6.947, 4.361])+np.array([6.983, 4.272])+np.array([6.947, 4.375]))/3)\n",
    "print(\"L3\", (np.array([7.006, 4.377])+np.array([7.058, 4.057])+np.array([7.03 ,4.129]))/3)\n",
    "print(\"L4\", (np.array([7.067, 4.419])+np.array([7.08 ,4.322])+np.array([7.071 ,4.43]))/3)\n",
    "print(\"L5\", (np.array([7.113, 4.268])+np.array([7.099, 4.095])+np.array([7.102, 4.334]))/3)\n"
   ]
  },
  {
   "cell_type": "code",
   "execution_count": 55,
   "metadata": {},
   "outputs": [
    {
     "name": "stdout",
     "output_type": "stream",
     "text": [
      "6.343 -7.463\n",
      "\n",
      "6.742 5.544\n",
      "\n",
      "6.581 14.36\n",
      "\n",
      "6.918 14.594\n",
      "\n",
      "6.941 15.961\n",
      "\n",
      "7.006 9.851\n",
      "\n",
      "7.029 9.212\n",
      "\n",
      "7.042 12.033\n",
      "\n",
      "7.039 11.821\n",
      "\n",
      "7.089 10.958\n",
      "\n",
      "7.094 12.353\n",
      "\n",
      "7.107 11.465\n",
      "\n",
      "7.153 9.874\n",
      "\n",
      "7.161 10.177\n",
      "\n",
      "7.141 10.26\n",
      "\n"
     ]
    }
   ],
   "source": [
    "for df, v in zip(Ss, Vs):\n",
    "    a, b = np.polyfit(df[\"sec\"][-101:-1], df[\"rad\"][-101:-1], 1)\n",
    "#     print(v, a, b,)\n",
    "    print(round(a/v, 3), round(-a/b, 3))\n",
    "    print()"
   ]
  },
  {
   "cell_type": "code",
   "execution_count": 56,
   "metadata": {},
   "outputs": [
    {
     "name": "stdout",
     "output_type": "stream",
     "text": [
      "S1 [6.55533333 4.147     ]\n",
      "S2 [ 6.955      13.46866667]\n",
      "S3 [ 7.03666667 11.022     ]\n",
      "S4 [ 7.09666667 11.592     ]\n",
      "S5 [ 7.15166667 10.10366667]\n"
     ]
    }
   ],
   "source": [
    "print(\"S1\", (np.array([6.343, -7.463])+np.array([6.742, 5.544])+np.array([6.581, 14.36]))/3)\n",
    "print(\"S2\", (np.array([6.918, 14.594])+np.array([6.941, 15.961])+np.array([7.006, 9.851]))/3)\n",
    "print(\"S3\", (np.array([7.029, 9.212])+np.array([7.042 ,12.033])+np.array([7.039, 11.821]))/3)\n",
    "print(\"S4\", (np.array([7.089, 10.958])+np.array([7.094, 12.353])+np.array([7.107, 11.465]))/3)\n",
    "print(\"S5\", (np.array([7.153, 9.874])+np.array([7.161 ,10.177])+np.array([7.141, 10.26]))/3)"
   ]
  },
  {
   "cell_type": "markdown",
   "metadata": {},
   "source": [
    "|-|1|2|3|4|5|\n",
    "|---|---|---|---|---|---|\n",
    "|S|K: 6.56<br>T: 4.15|K: 6.96<br>T: 13.47|K: 7.04<br>T: 11.02|K: 7.10<br>T: 11.59 |K: 7.15<br>T: 10.10|\n",
    "|L|K: 6.68<br>T: 3.53|K: 6.96<br>T: 4.34|K: 7.03<br>T: 4.19|K: 7.07<br>T:4.39 |K: 7.10<br>T: 4.23|"
   ]
  },
  {
   "cell_type": "code",
   "execution_count": 71,
   "metadata": {},
   "outputs": [
    {
     "data": {
      "text/plain": [
       "[<matplotlib.lines.Line2D at 0x1179a06a0>]"
      ]
     },
     "execution_count": 71,
     "metadata": {},
     "output_type": "execute_result"
    },
    {
     "data": {
      "image/png": "[encoded data removed]",
      "text/plain": [
       "<Figure size 432x288 with 1 Axes>"
      ]
     },
     "metadata": {
      "needs_background": "light"
     },
     "output_type": "display_data"
    }
   ],
   "source": [
    "import matplotlib.pyplot as plt\n",
    "L3V1df[0:250].plot(x='sec', y='rad')\n",
    "a, b = np.polyfit(L3V1df[-51:-1]['sec'], L3V1df[-51:-1]['rad'], 1)\n",
    "x = L3V1df[0:250]['sec']\n",
    "y = a*x+b\n",
    "plt.plot(x, y, ls=\"-.\")"
   ]
  },
  {
   "cell_type": "code",
   "execution_count": 73,
   "metadata": {},
   "outputs": [
    {
     "data": {
      "image/png": "[encoded data removed]",
      "text/plain": [
       "<Figure size 432x288 with 2 Axes>"
      ]
     },
     "metadata": {
      "needs_background": "light"
     },
     "output_type": "display_data"
    }
   ],
   "source": [
    "from scipy import signal\n",
    "import matplotlib.pyplot as plt\n",
    "%matplotlib inline\n",
    "\n",
    "K = 6.56\n",
    "T = 4.15\n",
    "\n",
    "# 伝達関数の定義\n",
    "num = [K] # 分子の係数\n",
    "den = [T,1, 0] # 分母の係数\n",
    "G = signal.lti(num, den)\n",
    "\n",
    "# ボード線図の計算\n",
    "w, mag, phase = signal.bode(G)\n",
    "\n",
    "fig, ax1 = plt.subplots()\n",
    "ax2 = ax1.twinx()\n",
    "\n",
    "ax1.semilogx(w, mag, label=\"Gain[dB]\")\n",
    "ax2.semilogx(w, phase, color=\"r\", label=\"Phase[deg]\")\n",
    "\n",
    "ax1.set_ylim([-40, 40])\n",
    "ax2.set_ylim([-180, 0])\n",
    "\n",
    "handler1, label1 = ax1.get_legend_handles_labels()\n",
    "handler2, label2 = ax2.get_legend_handles_labels()\n",
    "\n",
    "ax1.legend(handler1 + handler2, label1 + label2, loc=2)\n",
    "\n",
    "plt.grid()\n",
    "plt.show()"
   ]
  },
  {
   "cell_type": "code",
   "execution_count": null,
   "metadata": {},
   "outputs": [],
   "source": []
  }
 ],
 "metadata": {
  "kernelspec": {
   "display_name": "Python 3",
   "language": "python",
   "name": "python3"
  },
  "language_info": {
   "codemirror_mode": {
    "name": "ipython",
    "version": 3
   },
   "file_extension": ".py",
   "mimetype": "text/x-python",
   "name": "python",
   "nbconvert_exporter": "python",
   "pygments_lexer": "ipython3",
   "version": "3.7.1"
  }
 },
 "nbformat": 4,
 "nbformat_minor": 2
}
